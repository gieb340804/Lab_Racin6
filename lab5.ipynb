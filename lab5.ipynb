{
 "cells": [
  {
   "cell_type": "markdown",
   "metadata": {},
   "source": [
    "Вот функции для проверки и исправления ошибок в закодированных данных для кодов Хемминга (7,4) и (9,5):"
   ]
  },
  {
   "cell_type": "code",
   "execution_count": 3,
   "metadata": {},
   "outputs": [
    {
     "name": "stdout",
     "output_type": "stream",
     "text": [
      "Encoded (7,4) data: [1, 0, 1, 0, 1, 1, 0]\n",
      "Corrected (7,4) data: [1, 0, 1, 0, 0]\n",
      "Encoded (9,5) data: [1, 0, 1, 0, 1, 1, 0, 0, 1]\n"
     ]
    },
    {
     "ename": "IndexError",
     "evalue": "list index out of range",
     "output_type": "error",
     "traceback": [
      "\u001b[1;31m---------------------------------------------------------------------------\u001b[0m",
      "\u001b[1;31mIndexError\u001b[0m                                Traceback (most recent call last)",
      "Cell \u001b[1;32mIn[3], line 39\u001b[0m\n\u001b[0;32m     37\u001b[0m encoded_9_5 \u001b[38;5;241m=\u001b[39m data_9_5\n\u001b[0;32m     38\u001b[0m \u001b[38;5;28mprint\u001b[39m(\u001b[38;5;124m\"\u001b[39m\u001b[38;5;124mEncoded (9,5) data:\u001b[39m\u001b[38;5;124m\"\u001b[39m, encoded_9_5)\n\u001b[1;32m---> 39\u001b[0m corrected_data_9_5 \u001b[38;5;241m=\u001b[39m \u001b[43mcheck_and_correct_9_5\u001b[49m\u001b[43m(\u001b[49m\u001b[43mencoded_9_5\u001b[49m\u001b[43m)\u001b[49m\n\u001b[0;32m     40\u001b[0m \u001b[38;5;28mprint\u001b[39m(\u001b[38;5;124m\"\u001b[39m\u001b[38;5;124mCorrected (9,5) data:\u001b[39m\u001b[38;5;124m\"\u001b[39m, corrected_data_9_5)\n",
      "Cell \u001b[1;32mIn[3], line 24\u001b[0m, in \u001b[0;36mcheck_and_correct_9_5\u001b[1;34m(encoded_data)\u001b[0m\n\u001b[0;32m     22\u001b[0m \u001b[38;5;28;01mif\u001b[39;00m syndrome \u001b[38;5;241m!=\u001b[39m \u001b[38;5;241m0\u001b[39m:\n\u001b[0;32m     23\u001b[0m     error_bit \u001b[38;5;241m=\u001b[39m \u001b[38;5;241m15\u001b[39m \u001b[38;5;241m-\u001b[39m syndrome\n\u001b[1;32m---> 24\u001b[0m     encoded_data[error_bit] \u001b[38;5;241m=\u001b[39m \u001b[38;5;241m1\u001b[39m \u001b[38;5;241m-\u001b[39m \u001b[43mencoded_data\u001b[49m\u001b[43m[\u001b[49m\u001b[43merror_bit\u001b[49m\u001b[43m]\u001b[49m\n\u001b[0;32m     26\u001b[0m \u001b[38;5;28;01mreturn\u001b[39;00m encoded_data[\u001b[38;5;241m2\u001b[39m:\u001b[38;5;241m7\u001b[39m]\n",
      "\u001b[1;31mIndexError\u001b[0m: list index out of range"
     ]
    }
   ],
   "source": [
    "\n",
    "def check_and_correct_7_4(encoded_data):\n",
    "    p1 = encoded_data[0]\n",
    "    p2 = encoded_data[1]\n",
    "    p3 = encoded_data[3]\n",
    "\n",
    "    syndrome = (p1 ^ encoded_data[2] ^ p3 << 1) + (p2 ^ encoded_data[4] ^ p3 << 1) * 2\n",
    "\n",
    "    if syndrome != 0:\n",
    "        error_bit = 7 - syndrome\n",
    "        encoded_data[error_bit] = 1 - encoded_data[error_bit]\n",
    "\n",
    "    return encoded_data[2:]\n",
    "\n",
    "def check_and_correct_9_5(encoded_data):\n",
    "    p1 = encoded_data[0]\n",
    "    p2 = encoded_data[1]\n",
    "    p3 = encoded_data[3]\n",
    "    p4 = encoded_data[7]\n",
    "\n",
    "    syndrome = (p1 ^ encoded_data[2] ^ encoded_data[4] ^ p4) + (p2 ^ encoded_data[4] ^ encoded_data[5] ^ p4) * 2 + (p3 ^ encoded_data[2] ^ encoded_data[5] ^ p4) * 4\n",
    "\n",
    "    if syndrome != 0:\n",
    "        error_bit = 15 - syndrome\n",
    "        encoded_data[error_bit] = 1 - encoded_data[error_bit]\n",
    "\n",
    "    return encoded_data[2:7]\n",
    "\n",
    "# Пример использования для кода Хемминга (7,4)\n",
    "data_7_4 = [1, 0, 1, 0, 1, 1, 0]\n",
    "encoded_7_4 = data_7_4\n",
    "print(\"Encoded (7,4) data:\", encoded_7_4)\n",
    "corrected_data_7_4 = check_and_correct_7_4(encoded_7_4)\n",
    "print(\"Corrected (7,4) data:\", corrected_data_7_4)\n",
    "\n",
    "# Пример использования для кода Хемминга (9,5)\n",
    "data_9_5 = [1, 0, 1, 0, 1, 1, 0, 0, 1]\n",
    "encoded_9_5 = data_9_5\n",
    "print(\"Encoded (9,5) data:\", encoded_9_5)\n",
    "corrected_data_9_5 = check_and_correct_9_5(encoded_9_5)\n",
    "print(\"Corrected (9,5) data:\", corrected_data_9_5)\n"
   ]
  },
  {
   "cell_type": "markdown",
   "metadata": {},
   "source": [
    "```\n",
    "\n",
    "Код `check_and_correct_7_4` и `check_and_correct_9_5` принимает закодированные данные (включая проверочные биты), проверяет наличие ошибок, и, если они обнаружены, исправляет их. В результате возвращается только информационная часть данных, исключая проверочные биты.\n",
    "\n",
    "Также включен пример использования для обоих кодов, демонстрирующий процесс кодирования, а затем проверки и, при необходимости, исправления данных."
   ]
  },
  {
   "cell_type": "code",
   "execution_count": 6,
   "metadata": {},
   "outputs": [
    {
     "name": "stdout",
     "output_type": "stream",
     "text": [
      "Encoded (9,5) data: [1, 0, 1, 0, 1, 1, 0, 0, 1]\n",
      "Corrected (9,5) data: [1, 0, 1, 1, 0]\n"
     ]
    }
   ],
   "source": [
    "def check_and_correct_9_5(encoded_data):\n",
    "    p1 = encoded_data[0]\n",
    "    p2 = encoded_data[1]\n",
    "    p3 = encoded_data[3]\n",
    "    p4 = encoded_data[7]\n",
    "\n",
    "    syndrome = (p1 ^ encoded_data[2] ^ encoded_data[4] ^ encoded_data[6] ^ p4) + (p2 ^ encoded_data[2] ^ encoded_data[5] ^ encoded_data[6] ^ p4) * 2 + (p3 ^ encoded_data[4] ^ encoded_data[5] ^ encoded_data[6] ^ p4) * 4\n",
    "\n",
    "    if syndrome != 0:\n",
    "        error_bit = syndrome - 1\n",
    "        encoded_data[error_bit] = 1 - encoded_data[error_bit]\n",
    "\n",
    "    return encoded_data[2:7]\n",
    "\n",
    "\n",
    "data_9_5 = [1, 0, 1, 0, 1, 1, 0, 0, 1]\n",
    "encoded_9_5 = data_9_5\n",
    "print(\"Encoded (9,5) data:\", encoded_9_5)\n",
    "corrected_data_9_5 = check_and_correct_9_5(encoded_9_5)\n",
    "print(\"Corrected (9,5) data:\", corrected_data_9_5)"
   ]
  },
  {
   "cell_type": "code",
   "execution_count": 8,
   "metadata": {},
   "outputs": [
    {
     "ename": "IndexError",
     "evalue": "list index out of range",
     "output_type": "error",
     "traceback": [
      "\u001b[1;31m---------------------------------------------------------------------------\u001b[0m",
      "\u001b[1;31mIndexError\u001b[0m                                Traceback (most recent call last)",
      "Cell \u001b[1;32mIn[8], line 40\u001b[0m\n\u001b[0;32m     37\u001b[0m data \u001b[38;5;241m=\u001b[39m \u001b[38;5;241m10\u001b[39m\n\u001b[0;32m     39\u001b[0m \u001b[38;5;66;03m# Вычисление кодов Хемминга\u001b[39;00m\n\u001b[1;32m---> 40\u001b[0m codeword_74 \u001b[38;5;241m=\u001b[39m \u001b[43mhamming_74\u001b[49m\u001b[43m(\u001b[49m\u001b[43mdata\u001b[49m\u001b[43m)\u001b[49m\n\u001b[0;32m     41\u001b[0m codeword_95 \u001b[38;5;241m=\u001b[39m hamming_95(data)\n\u001b[0;32m     43\u001b[0m \u001b[38;5;66;03m# Вывод результатов\u001b[39;00m\n",
      "Cell \u001b[1;32mIn[8], line 9\u001b[0m, in \u001b[0;36mhamming_74\u001b[1;34m(data)\u001b[0m\n\u001b[0;32m      5\u001b[0m data_bits \u001b[38;5;241m=\u001b[39m [\u001b[38;5;28mint\u001b[39m(bit) \u001b[38;5;28;01mfor\u001b[39;00m bit \u001b[38;5;129;01min\u001b[39;00m \u001b[38;5;28mformat\u001b[39m(data, \u001b[38;5;124m'\u001b[39m\u001b[38;5;124m04b\u001b[39m\u001b[38;5;124m'\u001b[39m)]\n\u001b[0;32m      7\u001b[0m \u001b[38;5;66;03m# Вычисление проверочных бит\u001b[39;00m\n\u001b[0;32m      8\u001b[0m parity_bits \u001b[38;5;241m=\u001b[39m [\n\u001b[1;32m----> 9\u001b[0m     (data_bits[\u001b[38;5;241m0\u001b[39m] \u001b[38;5;241m+\u001b[39m data_bits[\u001b[38;5;241m1\u001b[39m] \u001b[38;5;241m+\u001b[39m data_bits[\u001b[38;5;241m3\u001b[39m] \u001b[38;5;241m+\u001b[39m \u001b[43mdata_bits\u001b[49m\u001b[43m[\u001b[49m\u001b[38;5;241;43m4\u001b[39;49m\u001b[43m]\u001b[49m) \u001b[38;5;241m%\u001b[39m \u001b[38;5;241m2\u001b[39m,\n\u001b[0;32m     10\u001b[0m     (data_bits[\u001b[38;5;241m0\u001b[39m] \u001b[38;5;241m+\u001b[39m data_bits[\u001b[38;5;241m2\u001b[39m] \u001b[38;5;241m+\u001b[39m data_bits[\u001b[38;5;241m3\u001b[39m] \u001b[38;5;241m+\u001b[39m data_bits[\u001b[38;5;241m5\u001b[39m]) \u001b[38;5;241m%\u001b[39m \u001b[38;5;241m2\u001b[39m,\n\u001b[0;32m     11\u001b[0m     (data_bits[\u001b[38;5;241m1\u001b[39m] \u001b[38;5;241m+\u001b[39m data_bits[\u001b[38;5;241m2\u001b[39m] \u001b[38;5;241m+\u001b[39m data_bits[\u001b[38;5;241m3\u001b[39m] \u001b[38;5;241m+\u001b[39m data_bits[\u001b[38;5;241m6\u001b[39m]) \u001b[38;5;241m%\u001b[39m \u001b[38;5;241m2\u001b[39m\n\u001b[0;32m     12\u001b[0m ]\n\u001b[0;32m     14\u001b[0m \u001b[38;5;66;03m# Создание конечного блока данных\u001b[39;00m\n\u001b[0;32m     15\u001b[0m codeword \u001b[38;5;241m=\u001b[39m data_bits \u001b[38;5;241m+\u001b[39m parity_bits\n",
      "\u001b[1;31mIndexError\u001b[0m: list index out of range"
     ]
    }
   ],
   "source": [
    "import numpy as np\n",
    "\n",
    "def hamming_74(data):\n",
    "    # Исходный блок данных\n",
    "    data_bits = [int(bit) for bit in format(data, '04b')]\n",
    "\n",
    "    # Вычисление проверочных бит\n",
    "    parity_bits = [\n",
    "        (data_bits[0] + data_bits[1] + data_bits[3] + data_bits[4]) % 2,\n",
    "        (data_bits[0] + data_bits[2] + data_bits[3] + data_bits[5]) % 2,\n",
    "        (data_bits[1] + data_bits[2] + data_bits[3] + data_bits[6]) % 2\n",
    "    ]\n",
    "\n",
    "    # Создание конечного блока данных\n",
    "    codeword = data_bits + parity_bits\n",
    "\n",
    "    return codeword\n",
    "\n",
    "def hamming_95(data):\n",
    "    # Исходный блок данных\n",
    "    data_bits = [int(bit) for bit in format(data, '05b')]\n",
    "\n",
    "    # Вычисление проверочных бит\n",
    "    parity_bits = [\n",
    "        (data_bits[0] + data_bits[1] + data_bits[2] + data_bits[3] + data_bits[4]) % 2,\n",
    "        (data_bits[1] + data_bits[2] + data_bits[3] + data_bits[5] + data_bits[6]) % 2,\n",
    "        (data_bits[2] + data_bits[3] + data_bits[4] + data_bits[6] + data_bits[7]) % 2,\n",
    "        (data_bits[3] + data_bits[4] + data_bits[5] + data_bits[7] + data_bits[8]) % 2\n",
    "    ]\n",
    "\n",
    "    # Создание конечного блока данных\n",
    "    codeword = data_bits + parity_bits\n",
    "\n",
    "    return codeword\n",
    "\n",
    "# Тестовые данные\n",
    "data = 10\n",
    "\n",
    "# Вычисление кодов Хемминга\n",
    "codeword_74 = hamming_74(data)\n",
    "codeword_95 = hamming_95(data)\n",
    "\n",
    "# Вывод результатов\n",
    "print(\"Код (7,4):\", codeword_74)\n",
    "print(\"Код (9,5):\", codeword_95)\n",
    "\n",
    "# Сравнение избыточности\n",
    "print(\"Избыточность кода (7,4):\", len(codeword_74) - 4)\n",
    "print(\"Избыточность кода (9,5):\", len(codeword_95) - 5)\n",
    "\n",
    "# Сравнение корректирующей мощности\n",
    "print(\"Корректирующая мощность обоих кодов:\", 1)"
   ]
  },
  {
   "cell_type": "code",
   "execution_count": 8,
   "metadata": {},
   "outputs": [
    {
     "name": "stdout",
     "output_type": "stream",
     "text": [
      "Исходная строка: Привет, мир!\n",
      "Сжатые данные: [1088, 1080, 1074, 1077, 1090, 44, 32, 1084, 1080, 1088, 33]\n",
      "Распакованная строка: Привет, мир!\n"
     ]
    }
   ],
   "source": [
    "def lzw_compress(string):\n",
    "    dictionary = {chr(i): i for i in range(1114112)}  # Используем Unicode символы\n",
    "    compressed = []\n",
    "    w = ''\n",
    "    for c in string:\n",
    "        wc = w + c\n",
    "        if wc in dictionary:\n",
    "            w = wc\n",
    "        else:\n",
    "            compressed.append(dictionary[w])\n",
    "            dictionary[wc] = len(dictionary)\n",
    "            w = c\n",
    "    if w:\n",
    "        compressed.append(dictionary[w])\n",
    "    return compressed, dictionary\n",
    "\n",
    "def lzw_decompress(compressed, dictionary):\n",
    "    decompressed = \"\"\n",
    "    w = chr(compressed.pop(0))\n",
    "    decompressed += w\n",
    "    for k in compressed:\n",
    "        entry = \"\"\n",
    "        if k in dictionary:\n",
    "            entry = dictionary[k]\n",
    "        elif k == len(dictionary):\n",
    "            entry = w + w[0]\n",
    "        decompressed += entry\n",
    "        dictionary[len(dictionary)] = w + entry[0]\n",
    "        w = entry\n",
    "    return decompressed\n",
    "\n",
    "# Пример использования\n",
    "original_string = \"Привет, мир!\"\n",
    "compressed_data, dictionary = lzw_compress(original_string)\n",
    "decompressed_string = lzw_decompress(compressed_data, {v: k for k, v in dictionary.items()})\n",
    "print(\"Исходная строка:\", original_string)\n",
    "print(\"Сжатые данные:\", compressed_data)\n",
    "print(\"Распакованная строка:\", decompressed_string)\n"
   ]
  },
  {
   "cell_type": "code",
   "execution_count": 9,
   "metadata": {},
   "outputs": [
    {
     "ename": "KeyError",
     "evalue": "''",
     "output_type": "error",
     "traceback": [
      "\u001b[1;31m---------------------------------------------------------------------------\u001b[0m",
      "\u001b[1;31mKeyError\u001b[0m                                  Traceback (most recent call last)",
      "Cell \u001b[1;32mIn[9], line 46\u001b[0m\n\u001b[0;32m     42\u001b[0m     \u001b[38;5;28;01mreturn\u001b[39;00m (compressed_length \u001b[38;5;241m*\u001b[39m \u001b[38;5;241m9\u001b[39m) \u001b[38;5;241m/\u001b[39m (original_length \u001b[38;5;241m*\u001b[39m \u001b[38;5;241m8\u001b[39m)\n\u001b[0;32m     45\u001b[0m string \u001b[38;5;241m=\u001b[39m \u001b[38;5;28minput\u001b[39m(\u001b[38;5;124m'\u001b[39m\u001b[38;5;124mВведите строку для сжатия: \u001b[39m\u001b[38;5;124m'\u001b[39m)\n\u001b[1;32m---> 46\u001b[0m compressed, encoding_dictionary \u001b[38;5;241m=\u001b[39m \u001b[43mlzw_compress\u001b[49m\u001b[43m(\u001b[49m\u001b[43mstring\u001b[49m\u001b[43m)\u001b[49m\n\u001b[0;32m     47\u001b[0m decompressed \u001b[38;5;241m=\u001b[39m lzw_decompress(compressed, encoding_dictionary)\n\u001b[0;32m     49\u001b[0m original_length \u001b[38;5;241m=\u001b[39m \u001b[38;5;28mlen\u001b[39m(string)\n",
      "Cell \u001b[1;32mIn[9], line 14\u001b[0m, in \u001b[0;36mlzw_compress\u001b[1;34m(string)\u001b[0m\n\u001b[0;32m     12\u001b[0m     p \u001b[38;5;241m=\u001b[39m pc\n\u001b[0;32m     13\u001b[0m \u001b[38;5;28;01melse\u001b[39;00m:\n\u001b[1;32m---> 14\u001b[0m     result1\u001b[38;5;241m.\u001b[39mappend(\u001b[43mdictionary\u001b[49m\u001b[43m[\u001b[49m\u001b[43mp\u001b[49m\u001b[43m]\u001b[49m)\n\u001b[0;32m     15\u001b[0m     dictionary[pc] \u001b[38;5;241m=\u001b[39m last\n\u001b[0;32m     16\u001b[0m     last \u001b[38;5;241m+\u001b[39m\u001b[38;5;241m=\u001b[39m \u001b[38;5;241m1\u001b[39m\n",
      "\u001b[1;31mKeyError\u001b[0m: ''"
     ]
    }
   ],
   "source": [
    "# -*- coding: utf-8 -*-\n",
    "\n",
    "def lzw_compress(string):\n",
    "    dictionary = {chr(i): i for i in range(1, 123)}\n",
    "    last = 256\n",
    "    p = \"\"\n",
    "    result1 = []\n",
    "\n",
    "    for c in string:\n",
    "        pc = p + c\n",
    "        if pc in dictionary:\n",
    "            p = pc\n",
    "        else:\n",
    "            result1.append(dictionary[p])\n",
    "            dictionary[pc] = last\n",
    "            last += 1\n",
    "            p = c\n",
    "\n",
    "    if p != '':\n",
    "        result1.append(dictionary[p])\n",
    "                    \n",
    "    return result1, dictionary\n",
    "\n",
    "def lzw_decompress(compressed, dictionary):\n",
    "    dictionary2 = {i: chr(i) for i in range(1, 123)}\n",
    "    last2 = 256\n",
    "    result2 = []\n",
    "    p = compressed.pop(0)\n",
    "    result2.append(dictionary2[p])\n",
    "\n",
    "    for c in compressed:\n",
    "        if c in dictionary2:\n",
    "            entry = dictionary2[c]\n",
    "        result2.append(entry)\n",
    "        dictionary2[last2] = dictionary2[p] + entry[0]\n",
    "        last2 += 1\n",
    "        p = c\n",
    "\n",
    "    return ''.join(result2)\n",
    "\n",
    "def calculate_compression_ratio(original_length, compressed_length):\n",
    "    return (compressed_length * 9) / (original_length * 8)\n",
    "\n",
    "\n",
    "string = input('Введите строку для сжатия: ')\n",
    "compressed, encoding_dictionary = lzw_compress(string)\n",
    "decompressed = lzw_decompress(compressed, encoding_dictionary)\n",
    "\n",
    "original_length = len(string)\n",
    "compressed_length = len(compressed)\n",
    "compression_ratio = calculate_compression_ratio(original_length, compressed_length)\n",
    "\n",
    "print('Сжатый код:', compressed)\n",
    "print('Раскодированная строка:', decompressed)\n",
    "print('Исходная длина строки:', original_length)\n",
    "print('Длина после сжатия:', compressed_length)\n",
    "print('Коэффициент сжатия LZW:', round(compression_ratio, 2))"
   ]
  }
 ],
 "metadata": {
  "kernelspec": {
   "display_name": "Python 3",
   "language": "python",
   "name": "python3"
  },
  "language_info": {
   "codemirror_mode": {
    "name": "ipython",
    "version": 3
   },
   "file_extension": ".py",
   "mimetype": "text/x-python",
   "name": "python",
   "nbconvert_exporter": "python",
   "pygments_lexer": "ipython3",
   "version": "3.11.6"
  }
 },
 "nbformat": 4,
 "nbformat_minor": 2
}
